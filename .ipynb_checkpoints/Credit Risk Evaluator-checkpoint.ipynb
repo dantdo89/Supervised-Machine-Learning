{
 "cells": [
  {
   "cell_type": "code",
   "execution_count": 1,
   "metadata": {},
   "outputs": [],
   "source": [
    "import numpy as np\n",
    "import pandas as pd\n",
    "from pathlib import Path\n",
    "from sklearn.model_selection import train_test_split\n",
    "from sklearn.preprocessing import StandardScaler, MinMaxScaler, LabelEncoder"
   ]
  },
  {
   "cell_type": "code",
   "execution_count": 2,
   "metadata": {},
   "outputs": [],
   "source": [
    "# 2019 is our training data and 2020 is our test data\n",
    "df_2019_raw = pd.read_csv(Path('Resources/2019loans.csv'))\n",
    "df_2020_raw = pd.read_csv(Path('Resources/2020Q1loans.csv'))"
   ]
  },
  {
   "cell_type": "code",
   "execution_count": 3,
   "metadata": {},
   "outputs": [],
   "source": [
    "df_2019 = df_2019_raw.drop(['index', 'Unnamed: 0'], axis = 1)\n",
    "df_2020 = df_2020_raw.drop(['index', 'Unnamed: 0'], axis = 1)"
   ]
  },
  {
   "cell_type": "code",
   "execution_count": 4,
   "metadata": {},
   "outputs": [
    {
     "name": "stdout",
     "output_type": "stream",
     "text": [
      "home_ownership 4 \n",
      "MORTGAGE    5800\n",
      "RENT        4944\n",
      "OWN         1371\n",
      "ANY           65\n",
      "Name: home_ownership, dtype: int64\n",
      "\n",
      "verification_status 3 \n",
      "Not Verified       5301\n",
      "Source Verified    4881\n",
      "Verified           1998\n",
      "Name: verification_status, dtype: int64\n",
      "\n",
      "loan_status 2 \n",
      "high_risk    6090\n",
      "low_risk     6090\n",
      "Name: loan_status, dtype: int64\n",
      "\n",
      "pymnt_plan 1 \n",
      "n    12180\n",
      "Name: pymnt_plan, dtype: int64\n",
      "\n",
      "initial_list_status 2 \n",
      "w    11158\n",
      "f     1022\n",
      "Name: initial_list_status, dtype: int64\n",
      "\n",
      "application_type 2 \n",
      "Individual    10400\n",
      "Joint App      1780\n",
      "Name: application_type, dtype: int64\n",
      "\n",
      "hardship_flag 2 \n",
      "N    11832\n",
      "Y      348\n",
      "Name: hardship_flag, dtype: int64\n",
      "\n",
      "debt_settlement_flag 2 \n",
      "N    12175\n",
      "Y        5\n",
      "Name: debt_settlement_flag, dtype: int64\n",
      "\n"
     ]
    }
   ],
   "source": [
    "for index, col in enumerate(df_2019.columns):\n",
    "    if df_2019.dtypes[index] == 'object':\n",
    "        print(col, df_2019[col].nunique(), f'\\n{df_2019[col].value_counts()}\\n')"
   ]
  },
  {
   "cell_type": "code",
   "execution_count": 5,
   "metadata": {},
   "outputs": [
    {
     "data": {
      "text/plain": [
       "pandas.core.indexes.base.Index"
      ]
     },
     "execution_count": 5,
     "metadata": {},
     "output_type": "execute_result"
    }
   ],
   "source": [
    "type(df_2019.columns)"
   ]
  },
  {
   "cell_type": "code",
   "execution_count": 6,
   "metadata": {},
   "outputs": [
    {
     "data": {
      "text/plain": [
       "((12180, 83), (12180,), (4702, 83), (4702,))"
      ]
     },
     "execution_count": 6,
     "metadata": {},
     "output_type": "execute_result"
    }
   ],
   "source": [
    "X_2019_raw = df_2019.drop('loan_status', axis = 1)\n",
    "y_2019_raw = df_2019['loan_status']\n",
    "X_2020_raw = df_2020.drop('loan_status', axis = 1)\n",
    "y_2020_raw = df_2020['loan_status']\n",
    "\n",
    "X_2019_raw.shape, y_2019_raw.shape, X_2020_raw.shape, y_2020_raw.shape"
   ]
  },
  {
   "cell_type": "code",
   "execution_count": 7,
   "metadata": {},
   "outputs": [],
   "source": [
    "X_2019 = pd.get_dummies(X_2019_raw, drop_first=True)\n",
    "\n",
    "y_2019 = y_2019_raw.replace({'low_risk':0, 'high_risk': 1})"
   ]
  },
  {
   "cell_type": "code",
   "execution_count": 8,
   "metadata": {},
   "outputs": [],
   "source": [
    "X_2020 = pd.get_dummies(X_2020_raw, drop_first=True)\n",
    "\n",
    "y_2020 = y_2020_raw.replace({'low_risk':0, 'high_risk': 1})"
   ]
  },
  {
   "cell_type": "code",
   "execution_count": 9,
   "metadata": {},
   "outputs": [
    {
     "data": {
      "text/plain": [
       "((12180, 85), (4702, 84))"
      ]
     },
     "execution_count": 9,
     "metadata": {},
     "output_type": "execute_result"
    }
   ],
   "source": [
    "X_2019.shape, X_2020.shape"
   ]
  },
  {
   "cell_type": "code",
   "execution_count": 10,
   "metadata": {},
   "outputs": [
    {
     "data": {
      "text/plain": [
       "((12180, 85), (4702, 85))"
      ]
     },
     "execution_count": 10,
     "metadata": {},
     "output_type": "execute_result"
    }
   ],
   "source": [
    "missing_cols = []\n",
    "for col in X_2019.columns:\n",
    "    if col not in X_2020.columns:\n",
    "        X_2020[col] = 0\n",
    "        missing_cols.append(col)\n",
    "\n",
    "X_2019.shape, X_2020.shape"
   ]
  },
  {
   "cell_type": "code",
   "execution_count": 11,
   "metadata": {},
   "outputs": [
    {
     "name": "stdout",
     "output_type": "stream",
     "text": [
      "Training Data Score: 0.6497536945812807\n",
      "Testing Data Score: 0.5157379838366652\n"
     ]
    },
    {
     "name": "stderr",
     "output_type": "stream",
     "text": [
      "/Users/dantdo/opt/anaconda3/lib/python3.8/site-packages/sklearn/linear_model/_logistic.py:814: ConvergenceWarning: lbfgs failed to converge (status=1):\n",
      "STOP: TOTAL NO. of ITERATIONS REACHED LIMIT.\n",
      "\n",
      "Increase the number of iterations (max_iter) or scale the data as shown in:\n",
      "    https://scikit-learn.org/stable/modules/preprocessing.html\n",
      "Please also refer to the documentation for alternative solver options:\n",
      "    https://scikit-learn.org/stable/modules/linear_model.html#logistic-regression\n",
      "  n_iter_i = _check_optimize_result(\n"
     ]
    }
   ],
   "source": [
    "from sklearn.linear_model import LogisticRegression\n",
    "lr = LogisticRegression(solver='lbfgs', random_state=1)\n",
    "lr.fit(X_2019, y_2019)\n",
    "print(f\"Training Data Score: {lr.score(X_2019, y_2019)}\")\n",
    "print(f\"Testing Data Score: {lr.score(X_2020, y_2020)}\")"
   ]
  },
  {
   "cell_type": "code",
   "execution_count": 12,
   "metadata": {},
   "outputs": [
    {
     "name": "stdout",
     "output_type": "stream",
     "text": [
      "Training Score: 1.0\n",
      "Testing Data Score: 0.6405784772437261\n"
     ]
    }
   ],
   "source": [
    "from sklearn.ensemble import RandomForestClassifier\n",
    "rf = RandomForestClassifier(random_state=1)\n",
    "rf.fit(X_2019,y_2019)\n",
    "print(f'Training Score: {rf.score(X_2019, y_2019)}')\n",
    "print(f\"Testing Data Score: {rf.score(X_2020, y_2020)}\")"
   ]
  },
  {
   "cell_type": "code",
   "execution_count": 13,
   "metadata": {},
   "outputs": [],
   "source": [
    "from sklearn.preprocessing import StandardScaler\n",
    "scaler = StandardScaler().fit(X_2019)\n",
    "X_2019_scaled = scaler.transform(X_2019)\n",
    "X_2020_scaled = scaler.transform(X_2020)"
   ]
  },
  {
   "cell_type": "code",
   "execution_count": 14,
   "metadata": {},
   "outputs": [
    {
     "name": "stdout",
     "output_type": "stream",
     "text": [
      "Training Data Score: 0.7083743842364532\n",
      "Testing Data Score: 0.7681837515950659\n"
     ]
    },
    {
     "name": "stderr",
     "output_type": "stream",
     "text": [
      "/Users/dantdo/opt/anaconda3/lib/python3.8/site-packages/sklearn/linear_model/_logistic.py:814: ConvergenceWarning: lbfgs failed to converge (status=1):\n",
      "STOP: TOTAL NO. of ITERATIONS REACHED LIMIT.\n",
      "\n",
      "Increase the number of iterations (max_iter) or scale the data as shown in:\n",
      "    https://scikit-learn.org/stable/modules/preprocessing.html\n",
      "Please also refer to the documentation for alternative solver options:\n",
      "    https://scikit-learn.org/stable/modules/linear_model.html#logistic-regression\n",
      "  n_iter_i = _check_optimize_result(\n"
     ]
    }
   ],
   "source": [
    "lr = LogisticRegression(solver='lbfgs', random_state=1)\n",
    "lr.fit(X_2019_scaled, y_2019)\n",
    "print(f\"Training Data Score: {lr.score(X_2019_scaled, y_2019)}\")\n",
    "print(f\"Testing Data Score: {lr.score(X_2020_scaled, y_2020)}\")"
   ]
  },
  {
   "cell_type": "code",
   "execution_count": 15,
   "metadata": {},
   "outputs": [
    {
     "name": "stdout",
     "output_type": "stream",
     "text": [
      "Training Score: 1.0\n",
      "Testing Score: 0.6390897490429605\n"
     ]
    }
   ],
   "source": [
    "rf = RandomForestClassifier(random_state=1)\n",
    "rf.fit(X_2019_scaled, y_2019)\n",
    "print(f'Training Score: {rf.score(X_2019_scaled, y_2019)}')\n",
    "print(f'Testing Score: {rf.score(X_2020_scaled, y_2020)}')"
   ]
  },
  {
   "cell_type": "code",
   "execution_count": null,
   "metadata": {},
   "outputs": [],
   "source": []
  }
 ],
 "metadata": {
  "interpreter": {
   "hash": "4acf74acc27c3a5516f178b74a53381c5072fac49f35ce271107d18e87cea583"
  },
  "kernelspec": {
   "display_name": "Python 3",
   "language": "python",
   "name": "python3"
  },
  "language_info": {
   "codemirror_mode": {
    "name": "ipython",
    "version": 3
   },
   "file_extension": ".py",
   "mimetype": "text/x-python",
   "name": "python",
   "nbconvert_exporter": "python",
   "pygments_lexer": "ipython3",
   "version": "3.8.8"
  }
 },
 "nbformat": 4,
 "nbformat_minor": 4
}
